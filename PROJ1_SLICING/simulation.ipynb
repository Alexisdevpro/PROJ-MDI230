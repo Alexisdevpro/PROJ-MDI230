{
 "cells": [
  {
   "cell_type": "markdown",
   "id": "0690d132",
   "metadata": {},
   "source": [
    "# Projet 1 - Modélisation du slicing dans les réseaux 5G"
   ]
  },
  {
   "cell_type": "markdown",
   "id": "1912ed34",
   "metadata": {},
   "source": [
    "**1)** Modiliser le nombre moyen de clients dans une file M/M/S/S à l’état stationnaire sans calculer de factorielle.\n",
    "\n",
    "En reprennant relation de récurrence de la formule de d’Erlang-B : \n",
    "\n",
    "$$\n",
    "\\frac{1}{\\mathrm{Erl}_B[\\rho, 0]} = 1 \\\\\n",
    "\\frac{1}{\\mathrm{Erl}_B[\\rho, S]} = 1 + \\frac{S}{\\rho\\, \\mathrm{Erl}_B[\\rho, S-1]}.\n",
    "$$"
   ]
  },
  {
   "cell_type": "markdown",
   "id": "1f0bb2ad",
   "metadata": {},
   "source": [
    "Pour rappel, la file M/M/S/S est definis comme :\n",
    "- Arrivées de parametre $\\lambda$\n",
    "- Service de parametre $\\mu$\n",
    "- S serveur, pas de buffer\n",
    "- $\\rho$ = $\\frac{\\lambda}{\\mu}$\n",
    "- Modele a perte, car pas de file d'attente, si les S serveurs sont occupé, le client est perdu.\n",
    "\n",
    "Je pose N, le nombre de clients a l'etat stationnaire (ne varie pas), alors comme vue dans le cours, le nombre moyen de clients est donné par  :\n",
    "\n",
    "$$ \\mathbb{E}[N] = \\sum_{k=1}^{S} k \\cdot \\pi_s(k) $$\n",
    "\n",
    "Or le $\\pi_s(i)$ est la proba stationnaire d'avoir i clients dans le systeme donc : \n",
    "$$\\pi_s(i) = \\frac{\\dfrac{\\rho^i}{i!}}{\\sum_{j=0}^{i} \\dfrac{\\rho^j}{j!}}$$ \n",
    "\n",
    "Donc on trouve cette fomule finale : $$ \\mathbb{E}[N] = \\sum_{n=1}^{S} n \\cdot \\frac{\\dfrac{\\rho^n}{n!}}{\\sum_{j=0}^{n} \\dfrac{\\rho^j}{j!}}$$"
   ]
  },
  {
   "cell_type": "code",
   "execution_count": null,
   "id": "2a5ca993",
   "metadata": {},
   "outputs": [],
   "source": [
    "def mean_number_waiting_customers(arrival_rate,service_rate,nb_of_servers):\n",
    "\n",
    "\n",
    "return"
   ]
  },
  {
   "cell_type": "code",
   "execution_count": null,
   "id": "baa262c9",
   "metadata": {},
   "outputs": [],
   "source": []
  }
 ],
 "metadata": {
  "language_info": {
   "name": "python"
  }
 },
 "nbformat": 4,
 "nbformat_minor": 5
}
