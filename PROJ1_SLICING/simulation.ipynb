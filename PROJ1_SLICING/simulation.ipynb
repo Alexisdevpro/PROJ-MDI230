{
 "cells": [
  {
   "cell_type": "markdown",
   "id": "0690d132",
   "metadata": {},
   "source": [
    "# Projet 1 - Modélisation du slicing dans les réseaux 5G"
   ]
  },
  {
   "cell_type": "markdown",
   "id": "1912ed34",
   "metadata": {},
   "source": [
    "**1)** Modiliser le nombre moyen de clients dans une file M/M/S/S à l’état stationnaire sans calculer de factorielle.\n",
    "\n",
    "En reprennant relation de récurrence de la formule de d’Erlang-B : \n",
    "\n",
    "$$\n",
    "\\frac{1}{\\mathrm{Erl}_B[\\rho, 0]} = 1 \\\\\n",
    "\\frac{1}{\\mathrm{Erl}_B[\\rho, S]} = 1 + \\frac{S}{\\rho\\, \\mathrm{Erl}_B[\\rho, S-1]}.\n",
    "$$"
   ]
  },
  {
   "cell_type": "markdown",
   "id": "1f0bb2ad",
   "metadata": {},
   "source": [
    "Pour rappel, la file M/M/S/S est definis comme :\n",
    "- Arrivées de parametre $\\lambda$\n",
    "- Service de parametre $\\mu$\n",
    "- S serveur, pas de buffer\n",
    "- $\\rho$ = $\\frac{\\lambda}{\\mu}$\n",
    "- Modele a perte, car pas de file d'attente, si les S serveurs sont occupé, le client est perdu.\n",
    "\n",
    "Je pose N, le nombre de clients a l'etat stationnaire (ne varie pas), alors comme vue dans le cours, le nombre moyen de clients est donné par  :\n",
    "\n",
    "$$ \\mathbb{E}[N] = \\sum_{k=1}^{S} k \\cdot \\pi_s(k) $$\n",
    "\n",
    "Or le $\\pi_s(i)$ est la proba stationnaire d'avoir i clients dans le systeme donc : \n",
    "$$\\pi_s(i) = \\frac{\\dfrac{\\rho^i}{i!}}{\\sum_{j=0}^{S} \\dfrac{\\rho^j}{j!}} = \\frac{\\rho^i}{i!}\\pi_s(0)$$ \n",
    "\n",
    "Donc on trouve cette fomule finale : $$ \\mathbb{E}[N] = \\sum_{n=1}^{S} n \\cdot \\frac{\\dfrac{\\rho^n}{n!}}{\\sum_{j=0}^{S} \\dfrac{\\rho^j}{j!}}$$"
   ]
  },
  {
   "cell_type": "code",
   "execution_count": 1,
   "id": "2a5ca993",
   "metadata": {},
   "outputs": [],
   "source": [
    "def mean_number_waiting_customers(arrival_rate,service_rate,nb_of_servers):\n",
    "    rho = arrival_rate / service_rate #(Fomule de \\frac{\\lambda}{\\mu})\n",
    "    value = 1.0  \n",
    "    pi_0 = value\n",
    "    numerateur = 0.0\n",
    "\n",
    "    #Fais la reccurance sur tout les thermes et traite le numerateur et deniminateur separement pour ne pas faire de factorielle\n",
    "    for n in range(1, nb_of_servers + 1):\n",
    "        value *= rho / n  \n",
    "        pi_0 += value\n",
    "        numerateur += n * value  \n",
    "    return numerateur / pi_0\n"
   ]
  },
  {
   "cell_type": "markdown",
   "id": "6f95f03b",
   "metadata": {},
   "source": [
    "Via les résultats connus sur le modèle **M/M/∞**, on sait que lorsque $ S \\rightarrow +\\infty $ :\n",
    "\n",
    "$$\n",
    "\\pi_{\\infty}(i) = \\frac{\\dfrac{\\rho^i}{i!}}{\\sum_{j=0}^{\\infty} \\dfrac{\\rho^j}{j!}} = e^{-\\rho} \\frac{\\rho^i}{i!}\n",
    "$$\n",
    "\n",
    "Ceci correspond exactement à une **loi de Poisson** de paramètre $ \\rho $.\n",
    "\n",
    "Par definition d'une loi de poission, le **nombre moyen de clients dans le système** quand $ S \\rightarrow +\\infty $ est :\n",
    "\n",
    "$$\n",
    "\\mathbb{E}[N] = \\sum_{i=0}^{\\infty} i \\cdot \\pi_{\\infty}(i) = \\rho\n",
    "$$\n",
    "\n",
    "Cela montre que, dans le cas d'une infinité de serveurs, le système ne sature jamais et le **nombre moyen de clients** est simplement donné par **le rapport entre le taux d’arrivée et le taux de service**.\n",
    "\n",
    "Pour ce qui est de $Erl_B[ρ,S]$ << 1, cela veux dire peut de perte, donc pas d'attente, c'est comme si on avais des serveurs infini du point de vue du client client. \n"
   ]
  },
  {
   "cell_type": "code",
   "execution_count": null,
   "id": "baa262c9",
   "metadata": {},
   "outputs": [],
   "source": []
  },
  {
   "cell_type": "markdown",
   "id": "2669a001",
   "metadata": {},
   "source": [
    "### 3-Modélisation"
   ]
  },
  {
   "cell_type": "markdown",
   "id": "61fbccd6",
   "metadata": {},
   "source": [
    "Dans cette partie, nous avons 2 types de clients : \n",
    "\n",
    "Type 1 (priorité plus elevé):\n",
    "- Arrive selon $PP(\\lambda_1)$\n",
    "- Durée de service $Exp(\\mu_1)$\n",
    "- Non bufferisés\n",
    "- Capacité de préemption \n",
    "<br>\n",
    "\n",
    "Type 2 :\n",
    "- Arrive selon $PP(\\lambda_1)$\n",
    "- Durée de service $Exp(\\mu_2)$\n",
    "- Bufferisés\n",
    "\n",
    "On note : \n",
    "- $Q_1$ = #clients de type 1 dans le systeme, respectivement $Q_2$.\n",
    "- $S_1$ = #nombre de serveurs occupés par des clients de type 1, respectivement $S_2$.\n",
    "- B = #clients de type 2 dans le buffer"
   ]
  },
  {
   "cell_type": "markdown",
   "id": "d0aa0d02",
   "metadata": {},
   "source": []
  },
  {
   "cell_type": "markdown",
   "id": "4223c22d",
   "metadata": {},
   "source": [
    "\n",
    "L'ecriture mathematique des definitions du dessus est : \n",
    "\n",
    "- $S_1 + S_2 < S$ $\\Leftrightarrow$ Il reste des serveurs libres, donc un client de type 1 peut être servi immédiatement.\n",
    "\n",
    "- $S_1 + S_2 = S$ $\\Leftrightarrow$ Tous les serveurs sont occupés. Grâce à la préemption, un client de type 2 est déplacé dans le buffer pour libérer un serveur pour un client de type 1.\n",
    "\n",
    "- $S_1 = S$ $\\Leftrightarrow$ Tous les serveurs sont occupés par des clients de type 1. Un nouveau client de type 1 est alors perdu.\n",
    "\n",
    "- $ Q_1 = S_1 $, car les clients de classe 1 ne sont jamais bufferisés.\n",
    "\n",
    "- $ Q_2 = S_2 + B$, car les clients de classe 2 peuvent être en service et/ou en file d’attente.\n",
    "\n",
    "Donc\n",
    "\n",
    "Si $ q_1 + s_2 < S $ $\\Rightarrow$ il reste au moins un serveur libre.\n",
    "\n",
    "Or, si b > 0 $\\Rightarrow$ y a des clients de classe 2 dans le buffer, et qu’il reste un serveur libre, le client dans le buffer serait automatiquement mis dans un serveur.\n",
    "\n",
    "Donc la situation $ b > 0 $ n’est valable qu’avec un système saturé : $ q_1 + s_2 = S $.  \n",
    "Par conséquent :\n",
    "\n",
    "$$\n",
    "q_1 + s_2 < S \\quad \\Rightarrow \\quad b = 0\n",
    "$$\n"
   ]
  },
  {
   "cell_type": "markdown",
   "id": "27f0f686",
   "metadata": {},
   "source": []
  }
 ],
 "metadata": {
  "kernelspec": {
   "display_name": "Python 3",
   "language": "python",
   "name": "python3"
  },
  "language_info": {
   "codemirror_mode": {
    "name": "ipython",
    "version": 3
   },
   "file_extension": ".py",
   "mimetype": "text/x-python",
   "name": "python",
   "nbconvert_exporter": "python",
   "pygments_lexer": "ipython3",
   "version": "3.12.1"
  }
 },
 "nbformat": 4,
 "nbformat_minor": 5
}
