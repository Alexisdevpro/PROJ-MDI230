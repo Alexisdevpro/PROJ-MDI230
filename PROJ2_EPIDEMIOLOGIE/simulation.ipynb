{
 "cells": [
  {
   "cell_type": "markdown",
   "id": "d6294378",
   "metadata": {},
   "source": [
    "# Projet 2 - Modèles épidémiologiques\n"
   ]
  },
  {
   "cell_type": "markdown",
   "id": "7f1a250c",
   "metadata": {},
   "source": []
  }
 ],
 "metadata": {
  "language_info": {
   "name": "python"
  }
 },
 "nbformat": 4,
 "nbformat_minor": 5
}
